{
 "cells": [
  {
   "cell_type": "code",
   "execution_count": 1,
   "metadata": {},
   "outputs": [
    {
     "name": "stdout",
     "output_type": "stream",
     "text": [
      "\n"
     ]
    }
   ],
   "source": [
    "import main\n",
    "diagrams = main.interactive_diagrams()"
   ]
  },
  {
   "cell_type": "raw",
   "metadata": {},
   "source": [
    "<div style=\"height:144px\" class=\"noprint\">\n",
    "<img class=\"noprint\" src=\"https://raw.githubusercontent.com/jeas4378/Group11_Demo/master/data/SKR_logga.png\" id=\"SKR-logo\"></div>\n",
    "<div class=\"header\">\n",
    "    <h1>Analysera skolresultat</h1>\n",
    "</div>\n",
    "<p> Följande resultat avser elever i kommunala skolor.</p>"
   ]
  },
  {
   "cell_type": "raw",
   "metadata": {},
   "source": [
    "<div class='no-break'>"
   ]
  },
  {
   "cell_type": "markdown",
   "metadata": {},
   "source": [
    "# 1. Resultatmått jämfört med kommungrupp och riket."
   ]
  },
  {
   "cell_type": "code",
   "execution_count": 2,
   "metadata": {},
   "outputs": [
    {
     "data": {
      "application/vnd.jupyter.widget-view+json": {
       "model_id": "5515f3613289488c8f363d8286af577b",
       "version_major": 2,
       "version_minor": 0
      },
      "text/plain": [
       "VBox(children=(HBox(children=(Dropdown(description='Kommun: ', options=('Ej vald', 'Ale', 'Alingsås', 'Alvesta…"
      ]
     },
     "metadata": {},
     "output_type": "display_data"
    }
   ],
   "source": [
    "diagrams.plot5()"
   ]
  },
  {
   "cell_type": "raw",
   "metadata": {},
   "source": [
    "\n",
    "<!-- Knapp för att spara diagrammet ovan till svg/png-format -->\n",
    "\n",
    "<a class=\"noprint\">\n",
    "    <button class=\"button\" onClick=\"exportPNG(1);\">Spara diagram</button>\n",
    "</a>\n",
    "\n",
    "<!-- Textruta -->\n",
    "\n",
    "\n",
    "<p>\n",
    "    <textarea \n",
    "        id=\"Diagram_1_Textbox\"\n",
    "        class = \"Textbox_Under_Diagram\"\n",
    "        rows = \"8\"\n",
    "        cols = \"80\"\n",
    "        placeholder=\"Beskriv din tolkning av diagrammet här.\">Vilka resultat (uppnått kunskapskrav, meritvärde, behörighet) har elever i kommunen?       \n",
    "Hur stor eller liten är skillnaderna i jämfört med den egna kommungruppen respektive riket?\n",
    "Är skillnaderna ungefär lika eller skiljer dom sig åt för de tre resultatmåtten om man jämför med kommungruppen respektive riket?\n",
    "</textarea>\n",
    "</p>\n",
    "\n",
    "</div>\n",
    "<div class='no-break'><br><br><br>"
   ]
  },
  {
   "cell_type": "markdown",
   "metadata": {},
   "source": [
    "# 2. Resultatmått för flickor och pojkar."
   ]
  },
  {
   "cell_type": "code",
   "execution_count": 3,
   "metadata": {},
   "outputs": [
    {
     "data": {
      "application/vnd.jupyter.widget-view+json": {
       "model_id": "63be3120bf264647a799a0dd612da2f9",
       "version_major": 2,
       "version_minor": 0
      },
      "text/plain": [
       "VBox(children=(HBox(children=(Dropdown(description='Kommun: ', options=('Ej vald', 'Ale', 'Alingsås', 'Alvesta…"
      ]
     },
     "metadata": {},
     "output_type": "display_data"
    }
   ],
   "source": [
    "diagrams.plot1()"
   ]
  },
  {
   "cell_type": "raw",
   "metadata": {},
   "source": [
    "\n",
    "<!-- Knapp för att spara diagrammet ovan till svg/png-format -->\n",
    "\n",
    "<a class=\"noprint\">\n",
    "    <button class=\"button\" onClick=\"exportPNG(2);\">Spara diagram</button>\n",
    "</a>\n",
    "\n",
    "<!-- Textruta -->\n",
    "\n",
    "<p>\n",
    "    <textarea \n",
    "        id=\"Diagram_2_Textbox\"\n",
    "        class = \"Textbox_Under_Diagram\"\n",
    "        rows = \"8\"\n",
    "        cols = \"80\"\n",
    "        placeholder=\"Beskriv din tolkning av diagrammet här.\" >Vilka resultat (uppnått kunskapskrav, meritvärde, behörighet) har flickor respektive pojkar i kommunen?\n",
    "Hur stora eller små är skillnaderna i jämfört med den egna kommungruppen respektive riket?\n",
    "Är skillnaderna stora eller små?\n",
    "Är skillnaderna ungefär lika eller skiljer dom sig åt för de tre resultatmåtten?\n",
    "</textarea>\n",
    "</p>\n",
    "\n",
    "</div>\n",
    "<div class='no-break'><br><br><br>"
   ]
  },
  {
   "cell_type": "markdown",
   "metadata": {},
   "source": [
    "# 3. Resultatmått i relation till föräldrars utbildningsnivå."
   ]
  },
  {
   "cell_type": "code",
   "execution_count": 4,
   "metadata": {},
   "outputs": [
    {
     "data": {
      "application/vnd.jupyter.widget-view+json": {
       "model_id": "441420e7d6804b8db6bd11c9fef9985c",
       "version_major": 2,
       "version_minor": 0
      },
      "text/plain": [
       "VBox(children=(HBox(children=(Dropdown(description='Kommun: ', options=('Ej vald', 'Ale', 'Alingsås', 'Alvesta…"
      ]
     },
     "metadata": {},
     "output_type": "display_data"
    }
   ],
   "source": [
    "diagrams.plot2()"
   ]
  },
  {
   "cell_type": "raw",
   "metadata": {},
   "source": [
    "\n",
    "<!-- Knapp för att spara diagrammet ovan till svg/png-format -->\n",
    "\n",
    "<a class=\"noprint\">\n",
    "    <button class=\"button\" onClick=\"exportPNG(3);\">Spara diagram</button>\n",
    "</a>\n",
    "\n",
    "\n",
    "<!-- Textruta -->\n",
    "\n",
    "<p>\n",
    "    <textarea \n",
    "        id=\"Diagram_3_Textbox\"\n",
    "        class = \"Textbox_Under_Diagram\"\n",
    "        rows = \"8\"\n",
    "        cols = \"80\"\n",
    "        placeholder=\"Beskriv din tolkning av diagrammet här.\" >Hur stor är den genomsnittliga andelen föräldrar i kommunen som har eftergymnasial utbildning?\n",
    "Hur stor är den andelen i relation till andra kommuner?\n",
    "Undersök hur sambandet mellan resultatmåtten (uppnått kunskapskrav, meritvärde, behörighet) och föräldrarnas utbildning ser ut.\n",
    "Jämför resultaten i din egen kommun med andra kommuner som har ungefär samma andel föräldrar med eftergymnasial utbildning.\n",
    "</textarea>\n",
    "</p>\n",
    "\n",
    "</div>\n",
    "<div class='no-break'><br><br><br>"
   ]
  },
  {
   "cell_type": "markdown",
   "metadata": {},
   "source": [
    "# 4. Resultat på nationella prov i relation till slutbetyg, kommungrupp och riket."
   ]
  },
  {
   "cell_type": "code",
   "execution_count": 5,
   "metadata": {},
   "outputs": [
    {
     "data": {
      "application/vnd.jupyter.widget-view+json": {
       "model_id": "9eaefb9fd7fb4939b9f41777ed37e0c9",
       "version_major": 2,
       "version_minor": 0
      },
      "text/plain": [
       "VBox(children=(HBox(children=(Dropdown(description='Kommun: ', options=('Ej vald', 'Ale', 'Alingsås', 'Alvesta…"
      ]
     },
     "metadata": {},
     "output_type": "display_data"
    }
   ],
   "source": [
    "diagrams.plot3()"
   ]
  },
  {
   "cell_type": "raw",
   "metadata": {},
   "source": [
    "\n",
    "<!-- Knapp för att spara diagrammet ovan till svg/png-format -->\n",
    "\n",
    "<a class=\"noprint\">\n",
    "    <button class=\"button\" onClick=\"exportPNG(4);\">Spara diagram</button>\n",
    "</a>\n",
    "\n",
    "<!-- Textruta -->\n",
    "\n",
    "<p>\n",
    "    <textarea \n",
    "        id=\"Diagram_4_Textbox\"\n",
    "        class = \"Textbox_Under_Diagram\"\n",
    "        rows = \"8\"\n",
    "        cols = \"80\"\n",
    "        placeholder=\"Beskriv din tolkning av diagrammet här.\" >Hur stor andel av eleverna i kommunen fick ett högre respektive lägre slutbetyg jämfört med resultatet på de nationella proven i Svenska, Engelska respektive Matematik?\n",
    "Är andelen som får högre slutbetyg än provresultat större än de som får lägre eller tvärtom?\n",
    "Är skillnaderna ungefär lika, eller skiljer dom sig åt, i dem tre olika ämnena?\n",
    "Hur stora eller små är skillnaderna i jämfört med den egna kommungruppen respektive riket?\n",
    "</textarea>\n",
    "</p>\n",
    "\n",
    "</div>\n",
    "<div class='no-break'><br><br><br>"
   ]
  },
  {
   "cell_type": "markdown",
   "metadata": {},
   "source": [
    "# 5. Resultat på nationella prov i relation till slutbetyg, alla kommuner."
   ]
  },
  {
   "cell_type": "code",
   "execution_count": 6,
   "metadata": {},
   "outputs": [
    {
     "data": {
      "application/vnd.jupyter.widget-view+json": {
       "model_id": "e7b305743a394488a3ad8184a764fc27",
       "version_major": 2,
       "version_minor": 0
      },
      "text/plain": [
       "VBox(children=(HBox(children=(Dropdown(description='Kommun: ', options=('Ej vald', 'Ale', 'Alingsås', 'Alvesta…"
      ]
     },
     "metadata": {},
     "output_type": "display_data"
    }
   ],
   "source": [
    "diagrams.plot4()"
   ]
  },
  {
   "cell_type": "raw",
   "metadata": {},
   "source": [
    "\n",
    "<!-- Knapp för att spara diagrammet ovan till svg/png-format -->\n",
    "\n",
    "<a class=\"noprint\">\n",
    "    <button class=\"button\" onClick=\"exportPNG(5);\">Spara diagram</button>\n",
    "</a>\n",
    "\n",
    "<!-- Textruta -->\n",
    "\n",
    "<p>\n",
    "    <textarea \n",
    "        id=\"Diagram_5_Textbox\"\n",
    "        class = \"Textbox_Under_Diagram\"\n",
    "        rows = \"8\"\n",
    "        cols = \"80\"\n",
    "        placeholder=\"Beskriv din tolkning av diagrammet här.\" >Hur stor andel av eleverna i kommunen fick ett högre respektive lägre slutbetyg jämfört med resultatet på de nationella proven i Svenska, Engelska respektive Matematik?\n",
    "Hur stor är andelen som får högre slutbetyg än resultat på nationella proven\n",
    "(Svenska, Matematik, Engelska) jämfört med andra kommuner och riket?\n",
    "Hur stor är andelen som får lägre slutbetyg än resultat på nationella proven\n",
    "(Svenska, Matematik, Engelska) jämfört med andra kommuner och riket?\n",
    "</textarea>\n",
    "</p>\n",
    "</div>"
   ]
  },
  {
   "cell_type": "raw",
   "metadata": {},
   "source": [
    "\n",
    "<!-- Knapp med fix position på skärmen. -->\n",
    "\n",
    "<div class = \"fixed\">\n",
    "    <a class=\"noprint\">\n",
    "        <button id=\"PDF-export\" class=\"button\" onclick=\"window.print()\">Spara som pdf</button>\n",
    "    </a> \n",
    "    <br>\n",
    "    <input class=\"noprint\" type=\"checkbox\" id=\"renderDropdown\" name=\"renderDropdown\">\n",
    "    <label class=\"noprint\" for=\"renderDropdown\"> Göm rullgardinsmenyer <br>vid pdf-export.</label>\n",
    "</div>\n",
    "\n",
    "<!--\n",
    "<h2 class=\"noprint\" >Dokument över alla kommungruppsindelningar<a href=\"https://github.com/SKRSthlm/KommunAnalys/blob/master/data/SEKOM_grupperna.xlsx\" target=\"_blank\"> här.</h2>\n",
    "-->\n",
    "\n",
    "<p class=\"noprint\" >Läs mer om kommungruppsindelningen <a href=https://befolkningsprognoser.se/sekom-sverige/ target=\"_blank\">här</a>.</p>\n",
    "\n",
    "<p class=\"noprint\" >En <a href=https://public.flourish.studio/visualisation/1312153/ target=\"_blank\">visualisering</a> av kommungruppsindelningen.</p>\n",
    "\n",
    "<p class=\"noprint\" >Länk till <a href=https://github.com/jeas4378/Group11_Demo target=\"_blank\">GitHub</a>.</p>\n",
    "\n",
    "<p class=\"noprint\">Kommungruppsindelningen i en Excelfil.\n",
    "<a href=\"https://github.com/jeas4378/Group11_Demo/raw/master/data/SEKOM_grupperna.xlsx\"><button class=\"button\">Ladda ner</button></a></a></p>"
   ]
  },
  {
   "cell_type": "raw",
   "metadata": {},
   "source": [
    "<link href='//fonts.googleapis.com/css?family=Open+Sans:400italic,600italic,700italic,400,600,700' rel='stylesheet' type='text/css'>\n",
    "<!-- Referens som behövs för att använda fonten Open Sans -->\n",
    "\n",
    "<style> \n",
    "    body { \n",
    "        text-align:center; \n",
    "        align-content: center;\n",
    "    } \n",
    "    pre {\n",
    "        text-align:center;\n",
    "    }\n",
    "    * {\n",
    "        font-family: 'Open Sans';\n",
    "    }\n",
    "    \n",
    "    h1, h2, h3 {\n",
    "        font-family: \"Georgia\", serif !important;\n",
    "    }\n",
    "    \n",
    "    textarea {\n",
    "        font-size: 18px;\n",
    "        resize: vertical;\n",
    "    }\n",
    "    \n",
    "    @media print { \n",
    "       .noprint { \n",
    "          visibility: hidden;\n",
    "          display: none; \n",
    "       } \n",
    "    } \n",
    "    \n",
    "    #SKR-logo {\n",
    "        //top: 20px;\n",
    "        //left: 20px;\n",
    "        //position: absolute;\n",
    "        float: left;\n",
    "    }\n",
    "        \n",
    "        \n",
    " </style> \n",
    "\n",
    "\n",
    " <style>\n",
    "    div.fixed {\n",
    "        position: fixed;\n",
    "        right: 5%;\n",
    "        top: 5%;\n",
    "        margin-top: -30px;\n",
    "        margin-right: -60px;\n",
    "    }\n",
    "    .button {\n",
    "        -webkit-appearance: none;\n",
    "        background-color:rgb(253, 200, 0);\n",
    "        border:rgb(253, 200, 0);\n",
    "        display:inline-block;\n",
    "        cursor:pointer;\n",
    "        color:#00000;\n",
    "        font-size:18px;\n",
    "        padding:12px 12px;\n",
    "    }\n",
    "    .button:hover {\n",
    "        background-color:rgb(255, 225, 117);\n",
    "    }\n",
    "    .button:active {\n",
    "        background-color:rgb(255, 150, 0);\n",
    "    }\n",
    "    .header {\n",
    "        padding: 20px;\n",
    "        text-align: center;\n",
    "        font-size: 30px;\n",
    "    }\n",
    "\n",
    "</style>\n",
    "\n",
    "\n",
    "<style type=\"text/css\" media=\"print\">\n",
    "    @page \n",
    "    {\n",
    "        size: auto;\n",
    "        margin: 0mm;\n",
    "\n",
    "    }\n",
    "    div.no-break {\n",
    "        page-break-inside: avoid;\n",
    "    }\n",
    "    textarea\n",
    "    { \n",
    "        border: none; \n",
    "    }\n",
    "     html {\n",
    "        background-color: #FFFFFF; \n",
    "    }\n",
    "    body { \n",
    "        zoom: 60%;\n",
    "        //-moz-transform: scale(0.6);\n",
    "        //-moz-transform-origin: 20% 0;\n",
    "    }\n",
    "    * {\n",
    "        overflow: visible!important;\n",
    "    }\n",
    "    \n",
    "</style>"
   ]
  },
  {
   "cell_type": "raw",
   "metadata": {},
   "source": [
    "<!--\n",
    "<script src=\"https://cdnjs.cloudflare.com/ajax/libs/dom-to-image/2.6.0/dom-to-image.min.js\"></script>\n",
    "<script src=\"https://cdnjs.cloudflare.com/ajax/libs/FileSaver.js/1.3.8/FileSaver.min.js\"></script>\n",
    "\n",
    "<script>\n",
    "    function exportPNG(n) {\n",
    "    /*\n",
    "    Spara diagram som png.\n",
    "    Använder js-paketen dom-to-image & filesaver.\n",
    "    */\n",
    "        domtoimage.toBlob(document.getElementsByClassName('plotly-graph-div')[n-1])\n",
    "            .then(function(blob) {\n",
    "              window.saveAs(blob, 'Diagram_' + n + '.png');\n",
    "            });\n",
    "    }\n",
    "</script>\n",
    "\n",
    "-->\n",
    "\n",
    "<script>\n",
    "    function exportPNG(n){\n",
    "        /* \n",
    "        Funktion som simulerar ett knapptryck på nedladdningsknappen i den n'te plotten.\n",
    "        */\n",
    "        elems = Array.prototype.slice.call(document.getElementsByClassName('modebar-btn'), 0);\n",
    "        elems.filter(filterByType)[n-1].click();\n",
    "    }\n",
    "</script>\n",
    "\n",
    "<script>\n",
    "    /*\n",
    "    Hjälpfunktion till exportSVG, för att filtrera bort alla toolbar knappar som ej rör nedladdning.\n",
    "    */\n",
    "    function filterByType(el){\n",
    "        return el.getAttribute(\"data-title\") == \"Download plot\" || \n",
    "               el.getAttribute(\"data-title\") == \"Download plot as a png\";\n",
    "    }\n",
    "</script>\n",
    "\n",
    "\n",
    "\n",
    "\n",
    "<script>\n",
    "    function hideEmpty() {\n",
    "        /* \n",
    "        Lägg till klassen noprint till\n",
    "        alla tomma textrutor, och ta bort den från icke-tomma textrutor.\n",
    "        */\n",
    "        var text_cells = document.getElementsByClassName(\"Textbox_Under_Diagram\");\n",
    "        for (cell of text_cells){\n",
    "            if (cell.value == \"\"){\n",
    "                cell.classList.add('noprint');\n",
    "\n",
    "            }\n",
    "            else {\n",
    "                cell.classList.remove('noprint');\n",
    "            }\n",
    "        }\n",
    "    }\n",
    "</script>\n",
    "\n",
    "<script>\n",
    "    /* \n",
    "    Gömmer dropdownmenyerna vid print, om checkboxen högst upp i dokumentet har klickats i.\n",
    "    Annars visas dropdownmenyerna vid print.\n",
    "    */\n",
    "    function showDropdown(){\n",
    "    \n",
    "        var checkBox = document.getElementById(\"renderDropdown\");\n",
    "        var cells = document.getElementsByClassName('widget-dropdown');\n",
    "        \n",
    "        if (checkBox.checked == true){\n",
    "            for (cell of cells){\n",
    "                cell.classList.add('noprint');\n",
    "            }\n",
    "        }\n",
    "        else {\n",
    "            for (cell of cells){\n",
    "                cell.classList.remove('noprint');\n",
    "            }\n",
    "        }\n",
    "        \n",
    "    }\n",
    "</script>\n",
    "\n",
    "<script>\n",
    "        /* \n",
    "        Anropa först funktionerna hideEmpty och showDropdown när webbläsarens\n",
    "        print-funktion anropas.\n",
    "        */\n",
    "    window.addEventListener('beforeprint', (event) => {\n",
    "        hideEmpty();\n",
    "        showDropdown();\n",
    "    });\n",
    "</script>\n",
    "\n",
    "\n",
    "\n",
    "\n",
    "<script>\n",
    "    function resizeTextArea(id) {\n",
    "        var cell = document.getElementById(id);\n",
    "        var str = cell.value;\n",
    "        var cols = cell.cols;\n",
    "        var linecount = 0;\n",
    "        for (line of str.split(\"\\n\")){\n",
    "            linecount += Math.max(Math.ceil(line.length / cols ),1); // Take into account long lines\n",
    "        }\n",
    "        cell.rows = Math.max(linecount + 1,8);\n",
    "        if (cell.style.height) {\n",
    "            if (parseInt(cell.style.height.slice(0,-2)) < 24 * cell.rows){\n",
    "                cell.style.height = null;\n",
    "            }\n",
    "        }\n",
    "    };\n",
    "    \n",
    "    var textarea_1 = document.getElementById(\"Diagram_1_Textbox\");\n",
    "    textarea_1.addEventListener(\"keyup\", event => resizeTextArea(textarea_1.id));\n",
    "    \n",
    "    var textarea_2 = document.getElementById(\"Diagram_2_Textbox\");\n",
    "    textarea_2.addEventListener(\"keyup\", event => resizeTextArea(textarea_2.id));\n",
    "    \n",
    "    var textarea_3 = document.getElementById(\"Diagram_3_Textbox\");\n",
    "    textarea_3.addEventListener(\"keyup\", event => resizeTextArea(textarea_3.id));\n",
    "    \n",
    "    var textarea_4 = document.getElementById(\"Diagram_4_Textbox\");\n",
    "    textarea_4.addEventListener(\"keyup\", event => resizeTextArea(textarea_4.id));\n",
    "    \n",
    "    var textarea_5 = document.getElementById(\"Diagram_5_Textbox\");\n",
    "    textarea_5.addEventListener(\"keyup\", event => resizeTextArea(textarea_5.id));\n",
    "    \n",
    "</script>"
   ]
  }
 ],
 "metadata": {
  "kernelspec": {
   "display_name": "Python 3",
   "language": "python",
   "name": "python3"
  },
  "language_info": {
   "codemirror_mode": {
    "name": "ipython",
    "version": 3
   },
   "file_extension": ".py",
   "mimetype": "text/x-python",
   "name": "python",
   "nbconvert_exporter": "python",
   "pygments_lexer": "ipython3",
   "version": "3.7.4"
  },
  "widgets": {
   "application/vnd.jupyter.widget-state+json": {
    "state": {},
    "version_major": 2,
    "version_minor": 0
   }
  }
 },
 "nbformat": 4,
 "nbformat_minor": 4
}
